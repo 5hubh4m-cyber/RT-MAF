{
 "cells": [
  {
   "cell_type": "code",
   "execution_count": 3,
   "metadata": {
    "gather": {
     "logged": 1675562866440
    },
    "jupyter": {
     "outputs_hidden": false,
     "source_hidden": false
    },
    "nteract": {
     "transient": {
      "deleting": false
     }
    }
   },
   "outputs": [],
   "source": [
    "from google_play_scraper import search, Sort\n",
    "\n",
    "def driver_1(first): \n",
    "    ls = [\"loan\", \"rummy\", \"cricket fantasy\", \"investment\", \"betting\"]\n",
    "    id_inputs = []\n",
    "\n",
    "    for i in ls:\n",
    "        if first:\n",
    "            result = search(\n",
    "                i,\n",
    "                lang='en', # defaults to 'en'\n",
    "                country='in', # defaults to 'us'\n",
    "                # sort=Sort.NEWEST, # defaults to Sort.MOST_RELEVANT\n",
    "            )\n",
    "        else:\n",
    "            result = search(\n",
    "                i,\n",
    "                lang='en', # defaults to 'en'\n",
    "                country='in', # defaults to 'us'\n",
    "                sort=Sort.NEWEST, # defaults to Sort.MOST_RELEVANT\n",
    "            )\n",
    "        for j in result:\n",
    "            id_inputs.append(j['appId'])\n",
    "\n",
    "    id_inputs = set(id_inputs)\n",
    "    return list(id_inputs)\n"
   ]
  },
  {
   "cell_type": "code",
   "execution_count": 4,
   "metadata": {
    "gather": {
     "logged": 1675562880347
    },
    "jupyter": {
     "outputs_hidden": false,
     "source_hidden": false
    },
    "nteract": {
     "transient": {
      "deleting": false
     }
    }
   },
   "outputs": [
    {
     "name": "stdout",
     "output_type": "stream",
     "text": [
      "['com.whizdm.moneyview.loans', 'com.gauthamns.fantasycricket', 'com.forex.markets.app.android', 'com.portal.hcin', 'com.leaguex.play', 'com.sbi.mf', 'com.octro.rummy', 'abmm.heckyl.com', 'com.indianrummy.onlinerummy.cardrummy', 'com.solotipster.solotipsbet', 'com.ideopay.user', 'com.paytmmoney', 'com.sportasy.fantasy', 'com.betbook', 'com.goat.btips', 'net.peakgames.ginrummyplus', 'com.jungleerummy.playcashgameonline', 'com.zcode.scorespredictor', 'com.eastudios.indianrummy', 'tipsterland.ideappsolutions.com', 'com.mpokket.app', 'com.vinfotech.theperfectlineup', 'com.suretips.bettingtipsnewteam', 'com.mycash.moneytap.app', 'com.mobivention.tippspiel.game.tipster.friends2014', 'com.postpe.app', 'com.kreditbee.android', 'com.univest.capp', 'ml.totaltipsbet.ttbapp', 'apna11.com', 'com.games24x7.ultimaterummy.playstore', 'com.tipmon.app', 'com.possible11.possible11', 'com.stashfin.android', 'com.gooogle.android.kuvera.app', 'com.fusionmedia.investing', 'com.kamagames.roulettist', 'com.pg.rummypassion', 'com.nextbillion.groww', 'ovh.sauzanaprod.predictionfoot', 'com.sportsbuzz11.fantasy', 'ott.wagertalk', 'com.mysiponline', 'com.popve.investrun', 'forex.purple', 'com.tipsters.betonair', 'com.my11guru.fantasy.sports.cricket', 'ng.com.fairmoney.fairmoney', 'com.rummy.litegame', 'com.balancehero.truebalance', 'com.yahoo.mobile.client.android.finance', 'com.capitalfirst.connector', 'org.altruist.BajajExperia', 'veer11.com.mg', 'com.msf.angelmobile', 'com.naviapp', 'com.rg.life11', 'ps.paid.real11', 'in.indwealth', 'com.rubyseven.bestbetcasino', 'com.devideal.tipsway', 'com.indialends.android', 'com.smallcase.android', 'in.zestmoney.android.zestlife', 'com.famous11.fantasy', 'com.bb11fantasy.app', 'com.choic11.fantasy', 'com.etoro.openbook', 'com.bbumgames.rummystars', 'co.tslc.cashe.android', 'com.mw.rouletteroyale', 'com.pocketly', 'com.teenpatti.hd.gold.rummy', 'com.branch_international.branch.branch_demo_android', 'com.mosl.mobile', 'org.dayup.stocks', 'com.citrus.citruspay', 'in.rebase.app', 'com.prime_betting_tips.prime_betting_tips', 'io.attabot.app.paymeindia', 'com.valuesHunter', 'com.teenpatti.hd.gold', 'com.rummywin.client', 'com.rozclient.game', 'net.footbe.footbe', 'com.capital.etf.trade', 'com.howzat.fantasycricketcashgame', 'ro.designroom.xbettingtips', 'com.piramal.app.pchf', 'com.fantasycricketapp.ballebaazi', 'com.analystman', 'com.betzonaru', 'com.cappertek.app209278', 'com.tradewill.online', 'com.bm.goatBettingTips', 'rubicoin.rubicoinlearn', 'com.fantasyakhada.akhada', 'com.fivepaisa.trade', 'com.game.oneto11', 'com.rufilo.user', 'com.smartspends', 'www.bongobet.com.customer', 'com.brainybucks.games.fsl11.fantasy.cricket.football.kabaddi', 'com.traustast.deciml', 'com.rummy.buzzgame', 'in.loanfront.android', 'ps.real11', 'com.mpl.androidapp.cash', 'com.kashrummy.development', 'com.gameskraft.rummycultureplay', 'com.dream11.fantasy.cricket.football.kabaddi', 'in.upstox.pro', 'com.tejtips.app', 'com.games24x7.rummycircle.rummy', 'com.invstr.invstrandroidv3', 'in.myteam11.store', 'games.swoop.fantasycricket', 'com.simpl.android', 'in.upstox.app', 'com.abilitygames.elevenwickets', 'com.ltfs.d2c', 'com.rekisha.geld', 'com.betway.scores.android', 'com.myfab11pro', 'in.cricketexchange.fantasy', 'com.zype.mobile', 'com.rummytime.googleplay', 'com.coindcx.btc', 'com.bettingtips.gotips', 'com.rupeeredee.app', 'com.cloudlatitude.fantasygameapp', 'com.finwizard.fisdom', 'com.comfun.mobile.rumm.asgp', 'com.games24x7.my11circle.fantasycricket', 'in.hanafintech', 'ovh.sauzanaprod.soccerbettingtips', 'com.halaplay', 'com.fastbanking', 'com.multitips']\n"
     ]
    }
   ],
   "source": [
    "if __name__ == \"__main__\":\n",
    "    x = driver_1(1)\n",
    "    print(x)"
   ]
  },
  {
   "cell_type": "code",
   "execution_count": null,
   "metadata": {},
   "outputs": [],
   "source": []
  }
 ],
 "metadata": {
  "kernel_info": {
   "name": "python310-sdkv2"
  },
  "kernelspec": {
   "display_name": "Python 3 (ipykernel)",
   "language": "python",
   "name": "python3"
  },
  "language_info": {
   "codemirror_mode": {
    "name": "ipython",
    "version": 3
   },
   "file_extension": ".py",
   "mimetype": "text/x-python",
   "name": "python",
   "nbconvert_exporter": "python",
   "pygments_lexer": "ipython3",
   "version": "3.10.9"
  },
  "microsoft": {
   "host": {
    "AzureML": {
     "notebookHasBeenCompleted": true
    }
   }
  },
  "nteract": {
   "version": "nteract-front-end@1.0.0"
  }
 },
 "nbformat": 4,
 "nbformat_minor": 2
}
