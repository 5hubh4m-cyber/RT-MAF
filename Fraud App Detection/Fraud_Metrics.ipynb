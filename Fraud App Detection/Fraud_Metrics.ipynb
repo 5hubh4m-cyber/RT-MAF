{
 "cells": [
  {
   "cell_type": "code",
   "execution_count": 1,
   "metadata": {
    "gather": {
     "logged": 1675566037555
    },
    "jupyter": {
     "outputs_hidden": false,
     "source_hidden": false
    },
    "nteract": {
     "transient": {
      "deleting": false
     }
    }
   },
   "outputs": [],
   "source": [
    "from google_play_scraper import app\n",
    "import pandas as pd\n",
    "import pickle\n",
    "\n",
    "def fraud_metrics(appid):\n",
    "    dt_loadedmodel=pickle.load(open(\"pkl_files/Fraud_Metrics_1.pkl\",\"rb\"))  ##Decision Tree ML Model Load\n",
    "    metrics=[]\n",
    "    result = app(appid,lang='en',country='in') # defaults to 'us')\n",
    "    metrics.append(result)\n",
    "    df_master=pd.DataFrame(metrics)\n",
    "    df_app=df_master[['minInstalls','realInstalls','score','ratings','reviews']]\n",
    "    metric_score=dt_loadedmodel.predict(df_app)\n",
    "    return metric_score[0]\n",
    "    ## O indicates genuine and 1 indicates fraud app\n"
   ]
  },
  {
   "cell_type": "code",
   "execution_count": 2,
   "metadata": {
    "gather": {
     "logged": 1675566039765
    },
    "jupyter": {
     "outputs_hidden": false,
     "source_hidden": false
    },
    "nteract": {
     "transient": {
      "deleting": false
     }
    }
   },
   "outputs": [
    {
     "name": "stdout",
     "output_type": "stream",
     "text": [
      "1\n"
     ]
    },
    {
     "name": "stderr",
     "output_type": "stream",
     "text": [
      "/home/cyber_5hubh4m/.local/lib/python3.10/site-packages/sklearn/base.py:493: FutureWarning: The feature names should match those that were passed during fit. Starting version 1.2, an error will be raised.\n",
      "Feature names must be in the same order as they were in fit.\n",
      "\n",
      "  warnings.warn(message, FutureWarning)\n"
     ]
    }
   ],
   "source": [
    "if __name__ == \"__main__\":\n",
    "    appid = 'com.kotak.kst'\n",
    "    ans=fraud_metrics(appid)\n",
    "    print(ans)"
   ]
  },
  {
   "cell_type": "code",
   "execution_count": null,
   "metadata": {},
   "outputs": [],
   "source": []
  }
 ],
 "metadata": {
  "kernel_info": {
   "name": "python310-sdkv2"
  },
  "kernelspec": {
   "display_name": "Python 3 (ipykernel)",
   "language": "python",
   "name": "python3"
  },
  "language_info": {
   "codemirror_mode": {
    "name": "ipython",
    "version": 3
   },
   "file_extension": ".py",
   "mimetype": "text/x-python",
   "name": "python",
   "nbconvert_exporter": "python",
   "pygments_lexer": "ipython3",
   "version": "3.10.9"
  },
  "microsoft": {
   "host": {
    "AzureML": {
     "notebookHasBeenCompleted": true
    }
   }
  },
  "nteract": {
   "version": "nteract-front-end@1.0.0"
  }
 },
 "nbformat": 4,
 "nbformat_minor": 2
}
