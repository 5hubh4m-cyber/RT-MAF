{
 "cells": [
  {
   "cell_type": "code",
   "execution_count": 1,
   "metadata": {
    "gather": {
     "logged": 1675963283526
    },
    "jupyter": {
     "outputs_hidden": false,
     "source_hidden": false
    },
    "nteract": {
     "transient": {
      "deleting": false
     }
    }
   },
   "outputs": [],
   "source": [
    "# takes two list of urls as input, applies models and generates score of being fraud and clone,\n",
    "# returns two lists of dictionaries\n",
    "\n",
    "from ipynb.fs.full.Clone_Logo import clone_logo\n",
    "from ipynb.fs.full.Clone_Desc import clone_desc\n",
    "from ipynb.fs.full.Fraud_Desc import fraud_desc\n",
    "from ipynb.fs.full.Fraud_Vers import fraud_vers\n",
    "from ipynb.fs.full.Fraud_Reply import fraud_reply\n",
    "from ipynb.fs.full.Fraud_Dev import fraud_dev\n",
    "from ipynb.fs.full.Fraud_Metrics import fraud_metrics\n",
    "from ipynb.fs.full.Fraud_Review import fraud_review\n",
    "from urllib.error import HTTPError\n",
    "from google_play_scraper import exceptions\n",
    "\n",
    "def cal(rs,met,ver,des,dev,rep):\n",
    "    dict = {'Review_Sentiment':0.25*rs,'Metrics':0.20*met,'Version':0.15*ver,'Description':0.20*des,'Developer':0.10*dev, 'Reply_Content':0.05*rep}\n",
    "    x = dict.values()\n",
    "    fval = sum(x)\n",
    "    max_ele = max(x)\n",
    "    for key,value in dict.items():\n",
    "        if(value == max_ele):\n",
    "            return key, fval\n",
    "    return 0,0\n",
    "\n",
    "\n",
    "def driver_2(id_inputs, id_database):\n",
    "\n",
    "    flist = []\n",
    "    clist = []\n",
    "\n",
    "    fraud_version_list = fraud_vers(id_inputs)\n",
    "    fraud_reply_list = fraud_reply(id_inputs)\n",
    "    i = 0\n",
    "\n",
    "    for app_id in id_inputs:\n",
    "\n",
    "        if(app_id in id_database):\n",
    "            return 0,0\n",
    "\n",
    "        ifdict = dict()\n",
    "        icdict = dict()   \n",
    "\n",
    "        dpath1 = 'buffers/logo1.png'\n",
    "        dpath2 = 'buffers/logo2.png'\n",
    "\n",
    "        \n",
    "        try:\n",
    "            cval_logo, cval_logo_id = clone_logo(app_id,id_database,dpath1,dpath2)\n",
    "            cval_desc, cval_desc_id = clone_desc(app_id,id_database)\n",
    "\n",
    "            fval_review = fraud_review(app_id)\n",
    "            fval_metrics = fraud_metrics(app_id)\n",
    "            fval_verion = fraud_version_list[i]\n",
    "            fval_reply = fraud_reply_list[i]\n",
    "            fval_description = fraud_desc(app_id)\n",
    "            fval_developer = fraud_dev(app_id,id_database)\n",
    "        \n",
    "\n",
    "            # clone:\n",
    "\n",
    "            cflag = 1\n",
    "            if cval_logo == 0 and cval_desc != 0 :\n",
    "                cval_total = cval_desc\n",
    "                cval_max = 'Matching Description'\n",
    "                cval_id = cval_desc_id\n",
    "            elif cval_desc == 0 and cval_logo != 0:\n",
    "                cval_total = cval_logo\n",
    "                cval_max = 'Matching Logo'\n",
    "                cval_id = cval_logo_id\n",
    "            elif cval_desc != 0 and cval_logo != 0:\n",
    "                if cval_logo > cval_desc:\n",
    "                    cval_total = cval_logo\n",
    "                    cval_max = 'Matching Logo'\n",
    "                    cval_id = cval_logo_id\n",
    "                else:\n",
    "                    cval_total = cval_desc\n",
    "                    cval_max = 'Matching Description'\n",
    "                    cval_id = cval_desc_id\n",
    "            else:\n",
    "                cval_id = 0\n",
    "                cval_max = 0\n",
    "                cval_total = 0\n",
    "                cflag = 0\n",
    "\n",
    "            icdict['App_Id_Clone'] = app_id\n",
    "            icdict['App_Id_Real'] = cval_id\n",
    "            icdict['Reason'] = cval_max\n",
    "            icdict['Attribute'] = cval_total\n",
    "\n",
    "            # fraud:        \n",
    "\n",
    "            fval_max, fval_total = cal(fval_review,fval_metrics,fval_verion,fval_description,fval_developer,fval_reply)\n",
    "\n",
    "            fflag = 1\n",
    "\n",
    "            ifdict['App_Id'] = app_id\n",
    "            ifdict['Reason'] = fval_max \n",
    "            ifdict['Probability'] = fval_total\n",
    "\n",
    "            if fval_total < 0.6:\n",
    "                fflag = 0\n",
    "\n",
    "            if fflag:\n",
    "                flist.append(ifdict)\n",
    "                \n",
    "            if cflag:\n",
    "                clist.append(icdict)\n",
    "\n",
    "        except exceptions.NotFoundError as e:\n",
    "            print('Some Apps not found, please check database and input : NotFoundError')\n",
    "            i += 1\n",
    "            continue\n",
    "        except KeyError as e:\n",
    "            print('Something went wrong with Keys : KeyError')\n",
    "            i += 1\n",
    "            continue\n",
    "\n",
    "        i += 1\n",
    "\n",
    "    return flist, clist"
   ]
  },
  {
   "cell_type": "code",
   "execution_count": 2,
   "metadata": {
    "gather": {
     "logged": 1675962959290
    },
    "jupyter": {
     "outputs_hidden": false,
     "source_hidden": false
    },
    "nteract": {
     "transient": {
      "deleting": false
     }
    }
   },
   "outputs": [
    {
     "name": "stdout",
     "output_type": "stream",
     "text": [
      "Some Apps not found, please check database and input : NotFoundError\n"
     ]
    },
    {
     "name": "stderr",
     "output_type": "stream",
     "text": [
      "/home/cyber_5hubh4m/.local/lib/python3.10/site-packages/sklearn/base.py:493: FutureWarning: The feature names should match those that were passed during fit. Starting version 1.2, an error will be raised.\n",
      "Feature names must be in the same order as they were in fit.\n",
      "\n",
      "  warnings.warn(message, FutureWarning)\n"
     ]
    },
    {
     "name": "stdout",
     "output_type": "stream",
     "text": [
      "Something went wrong with Keys : KeyError\n",
      "Some Apps not found, please check database and input : NotFoundError\n"
     ]
    },
    {
     "name": "stderr",
     "output_type": "stream",
     "text": [
      "/home/cyber_5hubh4m/.local/lib/python3.10/site-packages/sklearn/base.py:493: FutureWarning: The feature names should match those that were passed during fit. Starting version 1.2, an error will be raised.\n",
      "Feature names must be in the same order as they were in fit.\n",
      "\n",
      "  warnings.warn(message, FutureWarning)\n",
      "/home/cyber_5hubh4m/.local/lib/python3.10/site-packages/sklearn/base.py:493: FutureWarning: The feature names should match those that were passed during fit. Starting version 1.2, an error will be raised.\n",
      "Feature names must be in the same order as they were in fit.\n",
      "\n",
      "  warnings.warn(message, FutureWarning)\n",
      "/home/cyber_5hubh4m/.local/lib/python3.10/site-packages/sklearn/base.py:493: FutureWarning: The feature names should match those that were passed during fit. Starting version 1.2, an error will be raised.\n",
      "Feature names must be in the same order as they were in fit.\n",
      "\n",
      "  warnings.warn(message, FutureWarning)\n"
     ]
    },
    {
     "name": "stdout",
     "output_type": "stream",
     "text": [
      "[{'App_Id': 'com.kakaopay.app', 'Reason': 'Metrics', 'Probability': 0.6007812499999999}, {'App_Id': 'com.kaleidofin.kaleidofinCustomer', 'Reason': 'Metrics', 'Probability': 0.6035714285714285}] []\n"
     ]
    }
   ],
   "source": [
    "if __name__ == \"__main__\":\n",
    "    id_database = ['com.nextbillion.groww','com.tilicho.lendpal','com.branch_international.branch.branch_demo_android','com.finmapp.fininfinity','com.mymoneymantra.customer.app','io.attabot.app.paymeindia','com.games24x7.rummycircle.rummy','com.worldlineindia.ubi.merchantbqr','com.infrasoft.uboi','com.canarabank.mobility','com.dcb','com.revolut.junior','com.financialexpress.android','com.indianexpress.android','com.digilocker.android','com.mpokket.app','com.google.android.apps.tachyon','com.voldspeed.fast','com.snapchat.android','com.fengshenidle.fangzhi','com.leyoule.syhj','com.goodfun.mxy','com.rainbowgames.solitaire.google','com.anfn.jqioe.teenpatti','com.online.real.indian.cards.palacerummy','com.rotoql.betql','com.paytmmall','rummy.fantasy.firstgames','com.paytmmoney','com.bookmark.money','com.trueadviserhe.personalloan','com.tilicho.lendpal','com.iiflfinance.mymoney','tech.fplabs.score','com.epifi.paisa','com.nu.production','com.iexceed.appzillon.ippbMB','com.mnc.mbanking','com.bankofbaroda.mconnect','com.teenpatti.hd.gold.rummy','com.teenpatti.hd.gold','com.games24x7.ultimaterummy.playstore','com.tradewill.online','com.coindcx.btc','com.fusionmedia.investing','com.sbi.mf','com.forex.markets.app.android','com.kreditbee.android', 'com.citrus.citruspay', 'org.altruist.BajajExperia', 'com.gopaysense.android.boost', 'com.naviapp', 'com.bharatpe.app', 'com.kreditzy.android', 'com.moneytap.bnpl.app', 'com.stashfin.android', 'com.avail.easyloans.android', 'in.rebase.app', 'com.rupeek.customer', 'com.rupeeredee.app', 'in.zestmoney.android.zestlife', 'in.amazon.mShop.android.shopping', 'com.freecharge.android', 'com.axis.mobile', 'com.msf.kbank.mobile', 'com.upi.axispay', 'com.sbi.SBIFreedomPlus', 'com.sbi.lotusintouch', 'com.csam.icici.bank.imobile', 'com.dreamplug.androidapp', 'indwin.c3.shareapp', 'com.vaibhavkalpe.android.khatabook', 'money.jupiter', 'in.epaylater.android.retailer.generic', 'co.tslc.cashe.android', 'com.habile.cloudbankin.digimoney', 'com.moneyloji.loanservice', 'com.app.buenofinance', 'com.loaney.app', 'ng.com.fairmoney.fairmoney', 'com.flipkart.shopsy', 'com.flipkart.android', 'com.myntra.android', 'com.ril.ajio', 'com.meesho.supply', 'com.fsn.nds', 'com.snapdeal.main', 'com.tul.tatacliq', 'com.shopclues', 'live.video.shopping.simsim', 'mobile.qoo10.qstlin', 'booksfortune.bookchor', 'com.tatadigital.tcp', 'com.olx.southasia', 'com.jpl.jiomart', 'in.upstox.app', 'com.kotak.kst', 'com.dhan.live', 'com.zerodha.kite3', 'com.dream11.fantasy.cricket.football.kabaddi', 'in.myteam11.store', 'com.fantasycricketapp.ballebaazi', 'com.games24x7.my11circle.fantasycricket', 'com.gamezy.lite', 'com.ruby.rummy', 'com.howzat.fantasycricketcashgame']\n",
    "    # flist,clist = driver_2(['com.trade.groww'],id_database)\n",
    "\n",
    "    app_database = id_database[0:15]\n",
    "    app_inputs = ['com.trade.groww','com.kakaopay.app','com.thebuilder.fantasypredictor','com.indpay.getcash','com.kaleidofin.kaleidofinCustomer', 'org.altruist.BajajExperia', 'com.gopaysense.android.boost']\n",
    "    flist,clist = driver_2(app_inputs,app_database)\n",
    "    \n",
    "    print(flist,clist)"
   ]
  },
  {
   "cell_type": "code",
   "execution_count": null,
   "metadata": {},
   "outputs": [],
   "source": []
  }
 ],
 "metadata": {
  "kernel_info": {
   "name": "python310-sdkv2"
  },
  "kernelspec": {
   "display_name": "Python 3 (ipykernel)",
   "language": "python",
   "name": "python3"
  },
  "language_info": {
   "codemirror_mode": {
    "name": "ipython",
    "version": 3
   },
   "file_extension": ".py",
   "mimetype": "text/x-python",
   "name": "python",
   "nbconvert_exporter": "python",
   "pygments_lexer": "ipython3",
   "version": "3.10.9"
  },
  "microsoft": {
   "host": {
    "AzureML": {
     "notebookHasBeenCompleted": true
    }
   }
  },
  "nteract": {
   "version": "nteract-front-end@1.0.0"
  }
 },
 "nbformat": 4,
 "nbformat_minor": 2
}
