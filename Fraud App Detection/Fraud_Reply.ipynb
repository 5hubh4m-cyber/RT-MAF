{
 "cells": [
  {
   "cell_type": "code",
   "execution_count": 1,
   "metadata": {
    "gather": {
     "logged": 1675565059495
    },
    "jupyter": {
     "outputs_hidden": false,
     "source_hidden": false
    },
    "nteract": {
     "transient": {
      "deleting": false
     }
    }
   },
   "outputs": [],
   "source": [
    "from google_play_scraper import Sort, reviews\n",
    "\n",
    "def fraud_reply(app_packages):\n",
    "    li = []\n",
    "    count_none = 0\n",
    "    total_count = 0\n",
    "    avg = 0\n",
    "    for i in app_packages:\n",
    "        total_count = 0\n",
    "        count_none = 0\n",
    "        result, continuation_token = reviews(i,\n",
    "            lang='en', # defaults to 'en'\n",
    "            country='in', # defaults to 'us'\n",
    "        )\n",
    "\n",
    "    # If you pass `continuation_token` as an argument to the reviews function at this point,\n",
    "    # it will crawl the items after 3 review items.\n",
    "\n",
    "        result, _ = reviews(i,\n",
    "            continuation_token=continuation_token # defaults to None(load from the beginning))\n",
    "        )\n",
    "\n",
    "        for j in result:\n",
    "            total_count+=1\n",
    "            if(j['replyContent'] == None and j['repliedAt'] == None):\n",
    "                count_none += 1\n",
    "        avg = (100-count_none)\n",
    "        li.append(avg)\n",
    "\n",
    "    for j in range(0, len(li)):\n",
    "        probability = (100-li[j])/100\n",
    "        li[j] = probability\n",
    "    return(li)"
   ]
  },
  {
   "cell_type": "code",
   "execution_count": 2,
   "metadata": {
    "gather": {
     "logged": 1675565099621
    },
    "jupyter": {
     "outputs_hidden": false,
     "source_hidden": false
    },
    "nteract": {
     "transient": {
      "deleting": false
     }
    }
   },
   "outputs": [
    {
     "name": "stdout",
     "output_type": "stream",
     "text": [
      "[0.01, 0.32, 0.04, 0.6, 0.52, 0.02, 0.97, 0.0, 0.0, 0.0, 0.0, 0.19, 0.85, 0.0, 1.0, 0.62, 0.88, 0.26, 0.97, 0.36, 0.0, 0.98, 0.58, 0.0, 0.03, 0.0, 1.0, 0.99, 0.01, 1.0, 0.0, 0.97, 0.74, 0.07, 0.0, 0.2, 0.51, 0.65, 0.0, 0.08, 0.03, 0.01, 0.0, 0.0, 0.03, 0.99, 0.04, 0.68, 0.66, 0.54, 0.3, 0.0, 0.02, 0.87, 0.06, 0.08, 0.04, 0.15, 0.57, 0.11, 0.0]\n"
     ]
    }
   ],
   "source": [
    "if __name__ == \"__main__\":\n",
    "    app_packages = ['com.kreditbee.android', 'com.citrus.citruspay', 'org.altruist.BajajExperia', 'com.gopaysense.android.boost', 'com.naviapp', 'com.bharatpe.app', 'com.kreditzy.android', 'com.moneytap.bnpl.app', 'com.stashfin.android', 'com.avail.easyloans.android', 'in.rebase.app', 'com.rupeek.customer', 'com.rupeeredee.app', 'in.zestmoney.android.zestlife', 'in.amazon.mShop.android.shopping', 'com.freecharge.android', 'com.axis.mobile', 'com.msf.kbank.mobile', 'com.upi.axispay', 'com.sbi.SBIFreedomPlus', 'com.sbi.lotusintouch', 'com.csam.icici.bank.imobile', 'com.dreamplug.androidapp', 'indwin.c3.shareapp', 'com.vaibhavkalpe.android.khatabook', 'money.jupiter', 'in.epaylater.android.retailer.generic', 'co.tslc.cashe.android', 'com.habile.cloudbankin.digimoney', 'com.lightning.lightningrupee', 'com.moneyloji.loanservice', 'com.app.buenofinance', 'com.loaney.app', 'ng.com.fairmoney.fairmoney', 'com.flipkart.shopsy', 'com.flipkart.android', 'com.myntra.android', 'com.ril.ajio', 'com.meesho.supply', 'com.fsn.nds', 'com.snapdeal.main', 'com.tul.tatacliq', 'com.shopclues', 'live.video.shopping.simsim', 'mobile.qoo10.qstlin', 'booksfortune.bookchor', 'com.tatadigital.tcp', 'com.olx.southasia', 'com.jpl.jiomart',\n",
    "     'com.nextbillion.groww', 'in.upstox.app', 'com.kotak.kst', 'com.dhan.live', 'com.zerodha.kite3', 'com.dream11.fantasy.cricket.football.kabaddi', 'in.myteam11.store', 'com.fantasycricketapp.ballebaazi', 'com.games24x7.my11circle.fantasycricket', 'com.gamezy.lite', 'com.ruby.rummy', 'com.howzat.fantasycricketcashgame']\n",
    "\n",
    "    x = fraud_reply(app_packages)\n",
    "    print(x)"
   ]
  },
  {
   "cell_type": "code",
   "execution_count": null,
   "metadata": {},
   "outputs": [],
   "source": []
  }
 ],
 "metadata": {
  "kernel_info": {
   "name": "python310-sdkv2"
  },
  "kernelspec": {
   "display_name": "Python 3 (ipykernel)",
   "language": "python",
   "name": "python3"
  },
  "language_info": {
   "codemirror_mode": {
    "name": "ipython",
    "version": 3
   },
   "file_extension": ".py",
   "mimetype": "text/x-python",
   "name": "python",
   "nbconvert_exporter": "python",
   "pygments_lexer": "ipython3",
   "version": "3.10.9"
  },
  "microsoft": {
   "host": {
    "AzureML": {
     "notebookHasBeenCompleted": true
    }
   }
  },
  "nteract": {
   "version": "nteract-front-end@1.0.0"
  }
 },
 "nbformat": 4,
 "nbformat_minor": 2
}
