{
 "cells": [
  {
   "cell_type": "code",
   "execution_count": 1,
   "metadata": {
    "gather": {
     "logged": 1675535806645
    }
   },
   "outputs": [],
   "source": [
    "# pip install envelope"
   ]
  },
  {
   "cell_type": "code",
   "execution_count": 2,
   "metadata": {
    "gather": {
     "logged": 1675546348192
    },
    "jupyter": {
     "outputs_hidden": false,
     "source_hidden": false
    },
    "nteract": {
     "transient": {
      "deleting": false
     }
    }
   },
   "outputs": [],
   "source": [
    "from envelope import Envelope\n",
    "from pathlib import Path\n",
    "import csv\n",
    "\n",
    "def make_csv(fname, ldict, lfields):\n",
    "    with open(fname, 'w', newline='') as file: \n",
    "        writer = csv.DictWriter(file, fieldnames = lfields)\n",
    "        writer.writeheader() \n",
    "        writer.writerows(ldict)\n",
    "        \n",
    "def send_csv(FROM, TO, PASS, fnames):\n",
    "    Envelope()\\\n",
    "        .from_(FROM)\\\n",
    "        .subject(\"CSV Files\")\\\n",
    "        .to(TO)\\\n",
    "        .message(\"Files Attached\")\\\n",
    "        .attach(Path(fnames[0]))\\\n",
    "        .attach(Path(fnames[1]))\\\n",
    "        .smtp(\"smtp.gmail.com\", 587, FROM, PASS)\\\n",
    "        .send()"
   ]
  },
  {
   "cell_type": "code",
   "execution_count": 3,
   "metadata": {
    "gather": {
     "logged": 1675535807011
    },
    "jupyter": {
     "outputs_hidden": false,
     "source_hidden": false
    },
    "nteract": {
     "transient": {
      "deleting": false
     }
    }
   },
   "outputs": [],
   "source": [
    "if __name__ == \"__main__\":\n",
    "    # list of dictionaries \n",
    "    # fraud : 'App_Id' , 'Reason' , 'Probability' , 'Accuracy'\n",
    "    # clone : 'App_Id_Clone' , 'App_Id_Real' , 'Reason' , 'Attribute of Reason'\n",
    "\n",
    "    fraud_dict = [{'Sl_No': '1','App_Id' : 'id1', 'Reason' : 'r1', 'Probability' : 'p1'},\n",
    "                {'Sl_No': '2','App_Id' : 'id2', 'Reason' : 'r2', 'Probability' : 'p2'},\n",
    "                {'Sl_No': '3','App_Id' : 'id3', 'Reason' : 'r3', 'Probability' : 'p3'},\n",
    "                {'Sl_No': '4','App_Id' : 'id4', 'Reason' : 'r4', 'Probability' : 'p4'}]\n",
    "\n",
    "    clone_dict = [{'Sl_No': '1','App_Id_Clone' : 'id1', 'App_Id_Real' : 'id1', 'Reason' : 'r1', 'Attribute' : 'p1'},\n",
    "                {'Sl_No': '2','App_Id_Clone' : 'id2', 'App_Id_Real' : 'id2', 'Reason' : 'r2', 'Attribute' : 'p2'},\n",
    "                {'Sl_No': '3','App_Id_Clone' : 'id3', 'App_Id_Real' : 'id3', 'Reason' : 'r3', 'Attribute' : 'p3'},\n",
    "                {'Sl_No': '4','App_Id_Clone' : 'id4', 'App_Id_Real' : 'id4', 'Reason' : 'r4', 'Attribute' : 'p4'}]\n",
    "\n",
    "    fraud_fields = ['Sl_No','App_Id','Reason','Probability']\n",
    "    clone_fields = ['Sl_No','App_Id_Clone','App_Id_Real','Reason','Attribute']\n",
    "    \n",
    "    fraud_path = 'csv_files/fraud_file.csv'\n",
    "    clone_path = 'csv_files/clone_file.csv'\n",
    "    \n",
    "    FROM = 'appdetection001@gmail.com'\n",
    "    PASS = 'hncrgkxnjeqynmmu'\n",
    "    TO = 'shubham.befojji@gmail.com'\n",
    "\n",
    "    make_csv(fraud_path, fraud_dict, fraud_fields)\n",
    "    make_csv(clone_path, clone_dict, clone_fields)\n",
    "    send_csv(FROM, TO, PASS, [fraud_path, clone_path])"
   ]
  },
  {
   "cell_type": "code",
   "execution_count": null,
   "metadata": {},
   "outputs": [],
   "source": []
  }
 ],
 "metadata": {
  "kernel_info": {
   "name": "python310-sdkv2"
  },
  "kernelspec": {
   "display_name": "Python 3 (ipykernel)",
   "language": "python",
   "name": "python3"
  },
  "language_info": {
   "codemirror_mode": {
    "name": "ipython",
    "version": 3
   },
   "file_extension": ".py",
   "mimetype": "text/x-python",
   "name": "python",
   "nbconvert_exporter": "python",
   "pygments_lexer": "ipython3",
   "version": "3.10.9"
  },
  "microsoft": {
   "host": {
    "AzureML": {
     "notebookHasBeenCompleted": true
    }
   }
  },
  "nteract": {
   "version": "nteract-front-end@1.0.0"
  }
 },
 "nbformat": 4,
 "nbformat_minor": 2
}
