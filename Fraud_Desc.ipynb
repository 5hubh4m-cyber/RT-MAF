{
 "cells": [
  {
   "cell_type": "code",
   "execution_count": 1,
   "metadata": {
    "gather": {
     "logged": 1675564766851
    },
    "jupyter": {
     "outputs_hidden": false,
     "source_hidden": false
    },
    "nteract": {
     "transient": {
      "deleting": false
     }
    }
   },
   "outputs": [],
   "source": [
    "#pip install google_play_scraper"
   ]
  },
  {
   "cell_type": "code",
   "execution_count": 1,
   "metadata": {
    "gather": {
     "logged": 1675564768828
    },
    "jupyter": {
     "outputs_hidden": false,
     "source_hidden": false
    },
    "nteract": {
     "transient": {
      "deleting": false
     }
    }
   },
   "outputs": [],
   "source": [
    "import pandas as pd\n",
    "import numpy as np\n",
    "import difflib\n",
    "import re \n",
    "import language_tool_python  \n",
    "from google_play_scraper import app"
   ]
  },
  {
   "cell_type": "code",
   "execution_count": 2,
   "metadata": {
    "gather": {
     "logged": 1675564776827
    },
    "jupyter": {
     "outputs_hidden": false,
     "source_hidden": false
    },
    "nteract": {
     "transient": {
      "deleting": false
     }
    }
   },
   "outputs": [],
   "source": [
    "def fraud_desc(a):\n",
    "    result = app(a,\n",
    "    lang='en', # defaults to 'en'\n",
    "    country='in') # defaults to 'us'\n",
    "    des=result['description']\n",
    "    # using the tool  \n",
    "    my_tool = language_tool_python.LanguageTool('en-IN')  \n",
    "    \n",
    "    # given text  \n",
    "    my_text = des\n",
    "    # getting the matches  \n",
    "    my_matches = my_tool.check(my_text)  \n",
    "    \n",
    "    # defining some variables  \n",
    "    myMistakes = []  \n",
    "    myCorrections = []  \n",
    "    startPositions = []  \n",
    "    endPositions = []  \n",
    "    \n",
    "    # using the for-loop  \n",
    "    for rules in my_matches:  \n",
    "        if len(rules.replacements) > 0:  \n",
    "            startPositions.append(rules.offset)  \n",
    "            endPositions.append(rules.errorLength + rules.offset)  \n",
    "            myMistakes.append(my_text[rules.offset : rules.errorLength + rules.offset])  \n",
    "            myCorrections.append(rules.replacements[0])  \n",
    "    \n",
    "    # creating new object  \n",
    "    my_NewText = list(my_text)\n",
    "    result = app(a,\n",
    "    lang='en', # defaults to 'en'\n",
    "    country='in') # defaults to 'us'\n",
    "    des=result['description']\n",
    "    x=des.find('APR')\n",
    "    y=des.find('NFBC')\n",
    "    if(x!=-1 and y!= -1 and len(myCorrections)<2):\n",
    "        return 0.2\n",
    "    elif(x==-1 and y!=-1 and len(myCorrections)<2):\n",
    "        return 0.4\n",
    "    elif(x!=-1 and y==-1 and len(myCorrections)<2):\n",
    "        return 0.4\n",
    "    elif(x==-1 and y==-1 and len(myCorrections)<2):\n",
    "        return 0.5\n",
    "    elif(x==-1 and y!=-1 and len(myCorrections)>2):\n",
    "        return 0.7\n",
    "    elif(x==-1 and y!=-1 and len(myCorrections)>5):\n",
    "        return 0.8\n",
    "    elif(x==-1 and y!=-1 and len(myCorrections)>8):\n",
    "        return 0.9\n",
    "    else:\n",
    "        return 0.5"
   ]
  },
  {
   "cell_type": "code",
   "execution_count": 3,
   "metadata": {
    "gather": {
     "logged": 1675564865948
    },
    "jupyter": {
     "outputs_hidden": false,
     "source_hidden": false
    },
    "nteract": {
     "transient": {
      "deleting": false
     }
    }
   },
   "outputs": [
    {
     "name": "stdout",
     "output_type": "stream",
     "text": [
      "0.5\n"
     ]
    }
   ],
   "source": [
    "if __name__ == \"__main__\":\n",
    "    app_id = 'com.citrus.citruspay'\n",
    "    x = fraud_desc(app_id)\n",
    "    print(x)"
   ]
  },
  {
   "cell_type": "code",
   "execution_count": null,
   "metadata": {},
   "outputs": [],
   "source": []
  }
 ],
 "metadata": {
  "kernel_info": {
   "name": "python310-sdkv2"
  },
  "kernelspec": {
   "display_name": "Python 3 (ipykernel)",
   "language": "python",
   "name": "python3"
  },
  "language_info": {
   "codemirror_mode": {
    "name": "ipython",
    "version": 3
   },
   "file_extension": ".py",
   "mimetype": "text/x-python",
   "name": "python",
   "nbconvert_exporter": "python",
   "pygments_lexer": "ipython3",
   "version": "3.10.9"
  },
  "microsoft": {
   "host": {
    "AzureML": {
     "notebookHasBeenCompleted": true
    }
   }
  },
  "nteract": {
   "version": "nteract-front-end@1.0.0"
  }
 },
 "nbformat": 4,
 "nbformat_minor": 2
}
