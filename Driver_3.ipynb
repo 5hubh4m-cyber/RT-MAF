{
 "cells": [
  {
   "cell_type": "code",
   "execution_count": 1,
   "metadata": {
    "gather": {
     "logged": 1675564161895
    },
    "jupyter": {
     "outputs_hidden": false,
     "source_hidden": false
    },
    "nteract": {
     "transient": {
      "deleting": false
     }
    }
   },
   "outputs": [],
   "source": [
    "# takes two lists (fraud and clone) and filters and makes and sends csv files\n",
    "\n",
    "from ipynb.fs.full.CSV_Handler import make_csv, send_csv\n",
    "\n",
    "def driver_3(fraud_dict, fraud_fields, fraud_path, clone_dict, clone_fields, clone_path, FROM, TO, PASS, cap):\n",
    "\n",
    "    def skfd(x):\n",
    "        return x['Probability']\n",
    "        \n",
    "    def skcd(x):\n",
    "        return x['Attribute']\n",
    "    \n",
    "    fraud_dict = sorted(fraud_dict, key = skfd, reverse=True)\n",
    "    clone_dict = sorted(clone_dict, key = skcd, reverse=True)\n",
    "\n",
    "    j = 1\n",
    "    for i in fraud_dict:\n",
    "        i['Sl_No'] = j\n",
    "        j += 1\n",
    "\n",
    "    j = 1\n",
    "    for i in clone_dict:\n",
    "        i['Sl_No'] = j\n",
    "        j += 1\n",
    "\n",
    "    if cap < len(fraud_dict):\n",
    "        fraud_dict = fraud_dict[:cap]\n",
    "\n",
    "    if cap < len(clone_dict):\n",
    "        clone_dict = clone_dict[:cap]\n",
    "\n",
    "    make_csv(fraud_path, fraud_dict, fraud_fields)\n",
    "    make_csv(clone_path, clone_dict, clone_fields)\n",
    "    send_csv(FROM, TO, PASS, [fraud_path, clone_path])"
   ]
  },
  {
   "cell_type": "code",
   "execution_count": 2,
   "metadata": {
    "gather": {
     "logged": 1675564165475
    },
    "jupyter": {
     "outputs_hidden": false,
     "source_hidden": false
    },
    "nteract": {
     "transient": {
      "deleting": false
     }
    }
   },
   "outputs": [],
   "source": [
    "if __name__ == \"__main__\":\n",
    "\n",
    "    fraud_dict = [{'App_Id' : 'id1', 'Reason' : 'r1', 'Probability' : 4},\n",
    "                {'App_Id' : 'id2', 'Reason' : 'r2', 'Probability' : 3},\n",
    "                {'App_Id' : 'id3', 'Reason' : 'r3', 'Probability' : 2},\n",
    "                {'App_Id' : 'id4', 'Reason' : 'r4', 'Probability' : 1}]\n",
    "\n",
    "    clone_dict = [{'App_Id_Clone' : 'id1', 'App_Id_Real' : 'id1', 'Reason' : 'r1', 'Attribute' : 6},\n",
    "                {'App_Id_Clone' : 'id2', 'App_Id_Real' : 'id2', 'Reason' : 'r2', 'Attribute' : 5},\n",
    "                {'App_Id_Clone' : 'id3', 'App_Id_Real' : 'id3', 'Reason' : 'r3', 'Attribute' : 4},\n",
    "                {'App_Id_Clone' : 'id4', 'App_Id_Real' : 'id4', 'Reason' : 'r4', 'Attribute' : 3}]\n",
    "\n",
    "    fraud_fields = ['Sl_No','App_Id','Reason','Probability']\n",
    "    clone_fields = ['Sl_No','App_Id_Clone','App_Id_Real','Reason','Attribute']\n",
    "    \n",
    "    fraud_path = 'csv_files/fraud_file.csv'\n",
    "    clone_path = 'csv_files/clone_file.csv'\n",
    "    \n",
    "    FROM = 'appdetection001@gmail.com'\n",
    "    PASS = 'hncrgkxnjeqynmmu'\n",
    "    TO = 'shubham.befojji@gmail.com'\n",
    "    \n",
    "    cap = 3\n",
    "\n",
    "    driver_3(fraud_dict, fraud_fields, fraud_path, clone_dict, clone_fields, clone_path, FROM, TO, PASS, cap)\n"
   ]
  },
  {
   "cell_type": "code",
   "execution_count": null,
   "metadata": {},
   "outputs": [],
   "source": []
  }
 ],
 "metadata": {
  "kernel_info": {
   "name": "python310-sdkv2"
  },
  "kernelspec": {
   "display_name": "Python 3 (ipykernel)",
   "language": "python",
   "name": "python3"
  },
  "language_info": {
   "codemirror_mode": {
    "name": "ipython",
    "version": 3
   },
   "file_extension": ".py",
   "mimetype": "text/x-python",
   "name": "python",
   "nbconvert_exporter": "python",
   "pygments_lexer": "ipython3",
   "version": "3.10.9"
  },
  "microsoft": {
   "host": {
    "AzureML": {
     "notebookHasBeenCompleted": true
    }
   }
  },
  "nteract": {
   "version": "nteract-front-end@1.0.0"
  }
 },
 "nbformat": 4,
 "nbformat_minor": 2
}
